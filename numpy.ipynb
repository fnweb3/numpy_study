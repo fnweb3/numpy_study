{
  "nbformat": 4,
  "nbformat_minor": 0,
  "metadata": {
    "colab": {
      "provenance": [],
      "authorship_tag": "ABX9TyMycAW5YHcEhbJuZtNQKZ03",
      "include_colab_link": true
    },
    "kernelspec": {
      "name": "python3",
      "display_name": "Python 3"
    },
    "language_info": {
      "name": "python"
    }
  },
  "cells": [
    {
      "cell_type": "markdown",
      "metadata": {
        "id": "view-in-github",
        "colab_type": "text"
      },
      "source": [
        "<a href=\"https://colab.research.google.com/github/fnweb3/numpy_study/blob/master/numpy.ipynb\" target=\"_parent\"><img src=\"https://colab.research.google.com/assets/colab-badge.svg\" alt=\"Open In Colab\"/></a>"
      ]
    },
    {
      "cell_type": "markdown",
      "source": [],
      "metadata": {
        "id": "-skspQ9sPsP4"
      }
    },
    {
      "cell_type": "markdown",
      "source": [
        "Numpy, Libreria para ciencia de datos\n"
      ],
      "metadata": {
        "id": "eNus2IjjMp1H"
      }
    },
    {
      "cell_type": "code",
      "source": [
        "import numpy as np\n"
      ],
      "metadata": {
        "id": "nEwb5du7NBx2"
      },
      "execution_count": null,
      "outputs": []
    },
    {
      "cell_type": "code",
      "source": [
        "array_1d=np.array([1,4,3])\n",
        "array_1d\n"
      ],
      "metadata": {
        "colab": {
          "base_uri": "https://localhost:8080/"
        },
        "id": "XmoElZwcPTOa",
        "outputId": "555d785f-e2c4-4142-ae6c-91f8cb6831d5"
      },
      "execution_count": null,
      "outputs": [
        {
          "output_type": "stream",
          "name": "stdout",
          "text": [
            "[1 4 3]\n"
          ]
        }
      ]
    },
    {
      "cell_type": "code",
      "source": [
        "array_2d=np.array([(1,4,2),(5,2,3)])\n",
        "array_2d"
      ],
      "metadata": {
        "colab": {
          "base_uri": "https://localhost:8080/"
        },
        "id": "vHSNtNlWP0U8",
        "outputId": "0cff636f-7de7-4838-dfc7-ddd4eb9f6856"
      },
      "execution_count": null,
      "outputs": [
        {
          "output_type": "execute_result",
          "data": {
            "text/plain": [
              "array([[1, 4, 2],\n",
              "       [5, 2, 3]])"
            ]
          },
          "metadata": {},
          "execution_count": 4
        }
      ]
    },
    {
      "cell_type": "code",
      "source": [
        "array_3d=np.array([[(1,4,2),(1,5,9)],[(7,5,9),(8,1,3)],[(3,5,3),(7,2,9)]], dtype=float)\n",
        "array_3d\n"
      ],
      "metadata": {
        "colab": {
          "base_uri": "https://localhost:8080/"
        },
        "id": "WPxoxUqEQTAD",
        "outputId": "17e787d4-527d-4605-80e5-c42ba659490c"
      },
      "execution_count": null,
      "outputs": [
        {
          "output_type": "execute_result",
          "data": {
            "text/plain": [
              "array([[[1., 4., 2.],\n",
              "        [1., 5., 9.]],\n",
              "\n",
              "       [[7., 5., 9.],\n",
              "        [8., 1., 3.]],\n",
              "\n",
              "       [[3., 5., 3.],\n",
              "        [7., 2., 9.]]])"
            ]
          },
          "metadata": {},
          "execution_count": 5
        }
      ]
    },
    {
      "cell_type": "code",
      "source": [
        "print(array_3d)"
      ],
      "metadata": {
        "colab": {
          "base_uri": "https://localhost:8080/"
        },
        "id": "0X1__7g7Rc4d",
        "outputId": "585240f3-21d8-4ced-eeff-abf9aa4c6df2"
      },
      "execution_count": null,
      "outputs": [
        {
          "output_type": "stream",
          "name": "stdout",
          "text": [
            "[[[1. 4. 2.]\n",
            "  [1. 5. 9.]]\n",
            "\n",
            " [[7. 5. 9.]\n",
            "  [8. 1. 3.]]\n",
            "\n",
            " [[3. 5. 3.]\n",
            "  [7. 2. 9.]]]\n"
          ]
        }
      ]
    },
    {
      "cell_type": "markdown",
      "source": [
        "Creando Arrays"
      ],
      "metadata": {
        "id": "WmD0infISTyp"
      }
    },
    {
      "cell_type": "code",
      "source": [
        "#De ceros con 3 filas y 4 columnas\n",
        "np.zeros((3,4))\n"
      ],
      "metadata": {
        "colab": {
          "base_uri": "https://localhost:8080/"
        },
        "id": "5Li3OFbgSYRW",
        "outputId": "48809ba9-3118-4383-927c-cd04718e1b6f"
      },
      "execution_count": null,
      "outputs": [
        {
          "output_type": "execute_result",
          "data": {
            "text/plain": [
              "array([[0., 0., 0., 0.],\n",
              "       [0., 0., 0., 0.],\n",
              "       [0., 0., 0., 0.]])"
            ]
          },
          "metadata": {},
          "execution_count": 8
        }
      ]
    },
    {
      "cell_type": "code",
      "source": [
        "print(np.zeros((4,5)))"
      ],
      "metadata": {
        "colab": {
          "base_uri": "https://localhost:8080/"
        },
        "id": "sAjb-VNeSiXS",
        "outputId": "45586a96-0732-4f4d-d018-c014d24ea2a7"
      },
      "execution_count": null,
      "outputs": [
        {
          "output_type": "stream",
          "name": "stdout",
          "text": [
            "[[0. 0. 0. 0. 0.]\n",
            " [0. 0. 0. 0. 0.]\n",
            " [0. 0. 0. 0. 0.]\n",
            " [0. 0. 0. 0. 0.]]\n"
          ]
        }
      ]
    },
    {
      "cell_type": "code",
      "source": [],
      "metadata": {
        "id": "qcKRcvUHSqrB"
      },
      "execution_count": null,
      "outputs": []
    }
  ]
}